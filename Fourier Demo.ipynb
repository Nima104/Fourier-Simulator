{
 "cells": [
  {
   "cell_type": "markdown",
   "metadata": {},
   "source": [
    "### Fourier Simulation Demo"
   ]
  },
  {
   "cell_type": "code",
   "execution_count": null,
   "metadata": {},
   "outputs": [],
   "source": [
    "%pylab inline\n",
    "import numpy as np\n",
    "import matplotlib.pyplot as plt\n",
    "import scipy.io\n",
    "import sys\n",
    "import math"
   ]
  },
  {
   "cell_type": "code",
   "execution_count": null,
   "metadata": {},
   "outputs": [],
   "source": [
    "class Circle:\n",
    "    center = (0,0)\n",
    "\n",
    "    def __init__(self, radius=2, speed=(math.pi) / 8, parent=None, start_angle=0):\n",
    "        self.parent = parent\n",
    "        self.radius = radius\n",
    "        self.speed = speed\n",
    "        self.angle = start_angle\n",
    "        if parent:\n",
    "            self.center = next(parent.pos)\n",
    "        self.start_position = (self.center[0] + self.radius * math.cos(self.angle), self.center[1] + self.radius * math.sin(self.angle))\n",
    "        self.pos = self.gposition()\n",
    "    def gposition(self):\n",
    "        self.point = self.start_position\n",
    "        while True:\n",
    "            yield self.point\n",
    "            if self.parent:\n",
    "                self.center = next(self.parent.pos)\n",
    "            self.angle += self.speed\n",
    "            self.point = (self.center[0] + self.radius * math.cos(self.angle), self.center[1] + self.radius * math.sin(self.angle))\n",
    "\n",
    "def full_rotation(circle, dis):\n",
    "    lst = []\n",
    "    while len(lst) < dis:\n",
    "        lst.append(next(circle.pos)[1])\n",
    "    return lst\n",
    "\n",
    "def plotter(circle):\n",
    "    vals = full_rotation(circle, 100)\n",
    "    xes = list(range(len(vals)))\n",
    "    plt.plot(xes, vals)"
   ]
  },
  {
   "cell_type": "markdown",
   "metadata": {},
   "source": [
    "### Square Wave Progression"
   ]
  },
  {
   "cell_type": "code",
   "execution_count": null,
   "metadata": {},
   "outputs": [],
   "source": [
    "a = Circle(105, (math.pi) / 16)\n",
    "plotter(a)"
   ]
  },
  {
   "cell_type": "code",
   "execution_count": null,
   "metadata": {},
   "outputs": [],
   "source": [
    "a = Circle(105, (math.pi) / 16)\n",
    "b = Circle(35, 3*(math.pi) / 16, a)\n",
    "plotter(b)"
   ]
  },
  {
   "cell_type": "code",
   "execution_count": null,
   "metadata": {},
   "outputs": [],
   "source": [
    "a = Circle(105, (math.pi) / 16)\n",
    "b = Circle(35, 3*(math.pi) / 16, a)\n",
    "c = Circle(21, +5*(math.pi) / 16, b)\n",
    "plotter(c)"
   ]
  },
  {
   "cell_type": "code",
   "execution_count": null,
   "metadata": {},
   "outputs": [],
   "source": [
    "a = Circle(105, (math.pi) / 16)\n",
    "b = Circle(35, 3*(math.pi) / 16, a)\n",
    "c = Circle(21, +5*(math.pi) / 16, b)\n",
    "d = Circle(15, 7*(math.pi) / 16, c)\n",
    "plotter(d)"
   ]
  },
  {
   "cell_type": "markdown",
   "metadata": {},
   "source": [
    "### Sawtooth"
   ]
  },
  {
   "cell_type": "code",
   "execution_count": null,
   "metadata": {},
   "outputs": [],
   "source": [
    "a = Circle(24, (math.pi) / 16)\n",
    "b = Circle(12, -2*(math.pi) / 16, a)\n",
    "c = Circle(7, 3*(math.pi) / 16, b)\n",
    "d = Circle(6, -4*(math.pi) / 16, c)\n",
    "e = Circle((24/5), 5*(math.pi) / 16, d)\n",
    "f = Circle(4, -6*(math.pi) / 16, e)\n",
    "g = Circle(24/7, 7*(math.pi) / 16, f)\n",
    "plotter(g)"
   ]
  }
 ],
 "metadata": {
  "kernelspec": {
   "display_name": "Python 3",
   "language": "python",
   "name": "python3"
  },
  "language_info": {
   "codemirror_mode": {
    "name": "ipython",
    "version": 3
   },
   "file_extension": ".py",
   "mimetype": "text/x-python",
   "name": "python",
   "nbconvert_exporter": "python",
   "pygments_lexer": "ipython3",
   "version": "3.6.5"
  }
 },
 "nbformat": 4,
 "nbformat_minor": 2
}
